{
 "cells": [
  {
   "cell_type": "code",
   "execution_count": 1,
   "metadata": {},
   "outputs": [],
   "source": [
    "import numpy as np\n",
    "import pandas as pd\n",
    "from numpy import *\n",
    "from numpy import linalg as la\n",
    "import scipy\n",
    "from scipy import sparse\n",
    "from scipy.sparse import *\n",
    "from scipy.sparse.linalg import svds"
   ]
  },
  {
   "cell_type": "code",
   "execution_count": 2,
   "metadata": {},
   "outputs": [],
   "source": [
    "data = []\n",
    "with open('anonymous-msweb.data') as f:\n",
    "    count = 0\n",
    "    count_C = -1\n",
    "    lis = []\n",
    "    res = []\n",
    "    for i in f.readlines():\n",
    "        line = i.strip().split(',')\n",
    "        data.append(line)\n",
    "        dict_A = {}\n",
    "        dict_C = {}\n",
    "    for i in range(0,7):\n",
    "        data.pop(0)\n",
    "    for i in data:\n",
    "        if i[0]=='A' and i[1] not in dict_A:\n",
    "            dict_A[i[1]] = count\n",
    "            count += 1\n",
    "        if i[0]=='C':\n",
    "            if len(lis) != 0: \n",
    "                res.append(lis)\n",
    "            lis = []\n",
    "            for j in range(len(dict_A)):\n",
    "                lis.append(0.0)\n",
    "            continue\n",
    "        if i[0]=='V':\n",
    "            lis[dict_A[i[1]]] += 1"
   ]
  },
  {
   "cell_type": "code",
   "execution_count": 3,
   "metadata": {},
   "outputs": [],
   "source": [
    "res = np.mat(res)"
   ]
  },
  {
   "cell_type": "code",
   "execution_count": null,
   "metadata": {},
   "outputs": [],
   "source": [
    "U,Sigma,VT=la.svd(res)"
   ]
  },
  {
   "cell_type": "code",
   "execution_count": null,
   "metadata": {},
   "outputs": [],
   "source": [
    "from numpy import *\n",
    "from numpy import linalg as la\n",
    "# inA和inB都是列向量\n",
    "def ecludSim(inA, inB) :\n",
    "    return 1.0/(1.0 + la.norm(inA - inB))\n",
    "\n",
    "def pearsSim(inA, inB) :\n",
    "    # 检查是否存在三个或更多的点，若不存在，则返回1.0，这是因为此时两个向量完全相关\n",
    "    if len(inA) < 3 : return 1.0\n",
    "    return 0.5+0.5*corrcoef(inA, inB, rowvar = 0)[0][1]\n",
    "\n",
    "def cosSim(inA, inB) :\n",
    "    num = float(inA.T*inB)\n",
    "    denom = la.norm(inA)*la.norm(inB)\n",
    "    return 0.5+0.5*(num/denom)\n",
    "\n",
    "# 基于SVD的评分估计\n",
    "# 在recommend()中，svdEst用户替换对standEst()的调用，该函数对给定用户物品构建一个评分估计值。\n",
    "# 与standEst()非常相似，不同之处就在于它在第64行对数据集进行了SVD分解。在SVD分解后，只利用包含\n",
    "# 90%能量值的奇异值，这些奇异值以Numpy数组的形式得以保存。\n",
    "def svdEst(dataMat, user, simMeas, item) :\n",
    "    n = shape(dataMat)[1]\n",
    "    simTotal = 0.0; ratSimTotal = 0.0\n",
    "    U,Sigma,VT = la.svd(dataMat)\n",
    "    # 使用奇异值构建一个对角矩阵\n",
    "    Sig4 = mat(eye(65)*Sigma[:65])\n",
    "    # 利用U矩阵将物品转换到低维空间中\n",
    "    xformedItems = dataMat.T * U[:, :65] * Sig4.I\n",
    "    # 对于给定的用户，for循环在用户对应行的所有元素上进行遍历，与standEst()函数中的for循环目的一样\n",
    "    # 不同的是，这里的相似度是在低维空间下进行的。相似度的计算方法也会作为一个参数传递给该函数\n",
    "    for j in range(n) :\n",
    "        userRating = dataMat[user,j]\n",
    "        if userRating == 0 or j == item : continue\n",
    "        similarity = simMeas(xformedItems[item, :].T, xformedItems[j, :].T)\n",
    "        # print便于了解相似度计算的进展情况\n",
    "        print ('the %d and %d similarity is : %f' % (item, j, similarity))\n",
    "        # 对相似度求和\n",
    "        simTotal += similarity\n",
    "        # 对相似度及评分值的乘积求和\n",
    "        ratSimTotal += similarity * userRating\n",
    "    if simTotal == 0 : return 0\n",
    "    else : return ratSimTotal/simTotal\n",
    "\n",
    "# 推荐引擎，会调用svdEst()函数，产生最高的N个推荐结果。\n",
    "# simMeas：相似度计算方法\n",
    "# estMethod：估计方法\n",
    "def recommend(dataMat, user, N=10, simMeas=cosSim, estMethod=svdEst) :\n",
    "    # 寻找未评级的物品，对给定用户建立一个未评分的物品列表\n",
    "    unratedItems = nonzero(dataMat[user, :].A==0)[1]\n",
    "    # 如果不存在未评分物品，退出函数，否则在所有未评分物品上进行循环\n",
    "    if len(unratedItems) == 0 : return 'you rated everything'\n",
    "    itemScores = []\n",
    "    for item in unratedItems :\n",
    "        # 对于每个未评分物品，通过调用svdEst()来产生该物品的预测评分。\n",
    "        estimatedScore = estMethod(dataMat, user, simMeas, item)\n",
    "        # 该物品的编号和估计得分值会放在一个元素列表itemScores\n",
    "        itemScores.append((item, estimatedScore))\n",
    "    # 寻找前N个未评级物品\n",
    "    return  sorted(itemScores, key=lambda jj : jj[1], reverse=True)[:N]"
   ]
  },
  {
   "cell_type": "code",
   "execution_count": null,
   "metadata": {},
   "outputs": [],
   "source": [
    "recommend(res,100)"
   ]
  }
 ],
 "metadata": {
  "kernelspec": {
   "display_name": "Python 3",
   "language": "python",
   "name": "python3"
  },
  "language_info": {
   "codemirror_mode": {
    "name": "ipython",
    "version": 3
   },
   "file_extension": ".py",
   "mimetype": "text/x-python",
   "name": "python",
   "nbconvert_exporter": "python",
   "pygments_lexer": "ipython3",
   "version": "3.7.0"
  }
 },
 "nbformat": 4,
 "nbformat_minor": 2
}
